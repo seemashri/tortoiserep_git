{
 "cells": [
  {
   "cell_type": "code",
   "execution_count": null,
   "metadata": {},
   "outputs": [],
   "source": []
  },
  {
   "cell_type": "markdown",
   "metadata": {
    "collapsed": true
   },
   "source": [
    "# List Comprehensions\n",
    "\n",
    "In addition to sequence operations and list methods, Python includes a more advanced operation called a list comprehension.\n",
    "\n",
    "List comprehensions allow us to build out lists using a different notation. You can think of it as essentially a one line <code>for</code> loop built inside of brackets. For a simple example:\n",
    "#### Example 1"
   ]
  },
  {
   "cell_type": "code",
   "execution_count": 5,
   "metadata": {},
   "outputs": [
    {
     "data": {
      "text/plain": [
       "['h', 'a', 'r', 'i', 'p', 'r', 'i', 'y', 'a']"
      ]
     },
     "execution_count": 5,
     "metadata": {},
     "output_type": "execute_result"
    }
   ],
   "source": [
    "# Grab every letter in string\n",
    "word=\"haripriya\"\n",
    "lst=[x for x in word]\n",
    "lst"
   ]
  },
  {
   "cell_type": "markdown",
   "metadata": {},
   "source": [
    "\n",
    "#### Example 2"
   ]
  },
  {
   "cell_type": "code",
   "execution_count": 8,
   "metadata": {},
   "outputs": [
    {
     "data": {
      "text/plain": [
       "[0, 1, 4, 9, 16, 25, 36, 49, 64, 81]"
      ]
     },
     "execution_count": 8,
     "metadata": {},
     "output_type": "execute_result"
    }
   ],
   "source": [
    "# Square numbers in range and turn into list\n",
    "\n",
    "lst=[i**2 for i in range(10)]\n",
    "lst"
   ]
  },
  {
   "cell_type": "markdown",
   "metadata": {},
   "source": [
    "#### Example 3\n",
    "Let's see how to add in <code>if</code> statements:"
   ]
  },
  {
   "cell_type": "code",
   "execution_count": 11,
   "metadata": {},
   "outputs": [
    {
     "data": {
      "text/plain": [
       "[0, 2, 4, 6, 8]"
      ]
     },
     "execution_count": 11,
     "metadata": {},
     "output_type": "execute_result"
    }
   ],
   "source": [
    "# Check for even numbers in a range\n",
    "lst=[i for i in range(10) if i%2==0]\n",
    "lst\n"
   ]
  },
  {
   "cell_type": "markdown",
   "metadata": {},
   "source": [
    "#### Example 4\n",
    "Can also do more complicated arithmetic:"
   ]
  },
  {
   "cell_type": "code",
   "execution_count": 18,
   "metadata": {},
   "outputs": [
    {
     "data": {
      "text/plain": [
       "[32, 50, 68, 94]"
      ]
     },
     "execution_count": 18,
     "metadata": {},
     "output_type": "execute_result"
    }
   ],
   "source": [
    "# Convert Celsius to Fahrenheit\n",
    "celsius = [0,10,20.1,34.5]\n",
    "Fahrenheit=[((9/5)*x+32)for x in celsius]\n",
    "rFahrenheit=[round((9/5)*x+32)for x in celsius]\n",
    "Fahrenheit\n",
    "rFahrenheit"
   ]
  },
  {
   "cell_type": "markdown",
   "metadata": {},
   "source": [
    "#### Example 5\n",
    "We can also perform nested list comprehensions, for example:"
   ]
  },
  {
   "cell_type": "code",
   "execution_count": 21,
   "metadata": {},
   "outputs": [
    {
     "data": {
      "text/plain": [
       "[0, 1, 16, 81, 256, 625, 1296, 2401, 4096, 6561, 10000]"
      ]
     },
     "execution_count": 21,
     "metadata": {},
     "output_type": "execute_result"
    }
   ],
   "source": [
    "lst=[x**2 for x in[y**2 for y in range(11)]]\n",
    "lst"
   ]
  },
  {
   "cell_type": "markdown",
   "metadata": {},
   "source": [
    "# Exercise:\n"
   ]
  },
  {
   "cell_type": "markdown",
   "metadata": {},
   "source": [
    "####  Write a Python program to find those numbers which are divisible by 7 and multiple of 5, between 1500 and 2700 (both included)"
   ]
  },
  {
   "cell_type": "code",
   "execution_count": 36,
   "metadata": {},
   "outputs": [
    {
     "data": {
      "text/plain": [
       "[1505,\n",
       " 1540,\n",
       " 1575,\n",
       " 1610,\n",
       " 1645,\n",
       " 1680,\n",
       " 1715,\n",
       " 1750,\n",
       " 1785,\n",
       " 1820,\n",
       " 1855,\n",
       " 1890,\n",
       " 1925,\n",
       " 1960,\n",
       " 1995,\n",
       " 2030,\n",
       " 2065,\n",
       " 2100,\n",
       " 2135,\n",
       " 2170,\n",
       " 2205,\n",
       " 2240,\n",
       " 2275,\n",
       " 2310,\n",
       " 2345,\n",
       " 2380,\n",
       " 2415,\n",
       " 2450,\n",
       " 2485,\n",
       " 2520,\n",
       " 2555,\n",
       " 2590,\n",
       " 2625,\n",
       " 2660,\n",
       " 2695]"
      ]
     },
     "execution_count": 36,
     "metadata": {},
     "output_type": "execute_result"
    }
   ],
   "source": [
    "lst=[i for i in range(1500,2700) if i%7==0 and i%5==0]\n",
    "lst"
   ]
  },
  {
   "cell_type": "markdown",
   "metadata": {},
   "source": [
    "#### Write a Python program to convert temperatures to and from celsius, fahrenheit.\n",
    "[ Formula : c/5 = f-32/9 [ where c = temperature in celsius and f = temperature in fahrenheit ] \n",
    "\n",
    "Expected Output : \n",
    "\n",
    "60°C is 140 in Fahrenheit\n",
    "\n",
    "45°F is 7 in Celsius "
   ]
  },
  {
   "cell_type": "code",
   "execution_count": null,
   "metadata": {},
   "outputs": [],
   "source": [
    "temp = input(\"45\")\n",
    "degree = int(temp[:-1])\n",
    "conv = temp[-1]\n",
    "if conv.upper()=='C':\n",
    "    Fahrenheit=((9/5)*x+32)\n",
    "    print(Fahrenheit)\n",
    "    elif:\n",
    "        celsius=((5/9)*(x-32)):\n",
    "            print(celsius)\n",
    "            else:\n",
    "                print(\"C\" or \"F\")\n",
    "\n",
    "\n",
    "    \n",
    "\n"
   ]
  },
  {
   "cell_type": "code",
   "execution_count": 2,
   "metadata": {},
   "outputs": [
    {
     "name": "stdout",
     "output_type": "stream",
     "text": [
      "Aa\n",
      "vowel\n"
     ]
    }
   ],
   "source": [
    "#### Write a Python program to check whether an alphabet is a vowel or consonant\n",
    "alpha=input(\"A\")\n",
    "if alpha.upper()==\"A\" or alpha.upper()==\"E\"or alpha.upper()==\"i\" or alpha.upper()==\"O\" or alpha.upper()==\"U\":\n",
    "    print(\"vowel\")\n",
    "else:\n",
    "    print(\"constant\")\n",
    "\n"
   ]
  },
  {
   "cell_type": "code",
   "execution_count": 10,
   "metadata": {},
   "outputs": [
    {
     "name": "stdout",
     "output_type": "stream",
     "text": [
      "A is vowel\n"
     ]
    }
   ],
   "source": [
    "\n"
   ]
  },
  {
   "cell_type": "markdown",
   "metadata": {},
   "source": [
    "####   Write a Python program to get the sum of two given integers. However, if the sum is between 15 to 20 it will return 20."
   ]
  },
  {
   "cell_type": "code",
   "execution_count": 15,
   "metadata": {},
   "outputs": [
    {
     "name": "stdout",
     "output_type": "stream",
     "text": [
      "Enter first number15\n",
      "Enter secnd number4\n",
      "20\n"
     ]
    }
   ],
   "source": [
    "F=int(input(\"Enter first number\"))\n",
    "S=int(input(\"Enter secnd number\"))\n",
    "Sum=F+S\n",
    "if (Sum in range(15,20)):\n",
    "    print(20)\n",
    "else:\n",
    "    print(Sum)"
   ]
  },
  {
   "cell_type": "markdown",
   "metadata": {},
   "source": [
    "####  Write a Python program that prints the total number of days in a month if  month name is given\n"
   ]
  },
  {
   "cell_type": "code",
   "execution_count": 23,
   "metadata": {},
   "outputs": [
    {
     "name": "stdout",
     "output_type": "stream",
     "text": [
      "Enter Monthfeb\n",
      "has 29 days\n"
     ]
    }
   ],
   "source": [
    "month=input(\"Enter Month\")\n",
    "m=[\"jan\",\"march\",\"may\",\"july\",\"aug\",\"oct\",\"dec\"]\n",
    "m1=[\"april\",\"june\",\"sept\",\"oct\"]\n",
    "m2=[\"feb\"]\n",
    "if month in m:\n",
    "    print(\"has 31 days\")\n",
    "elif month in m1:\n",
    "    print(\"has 30 days\")\n",
    "elif month in m2:\n",
    "    print(\"has 29 days\")\n",
    "        \n",
    "else:\n",
    "    print(\"invalid input\")"
   ]
  },
  {
   "cell_type": "markdown",
   "metadata": {},
   "source": [
    "#### Write a Python program to display astrological sign for given date of birth. \n",
    "\n",
    "Expected Output:\n",
    "\n",
    "Input birthday: 15                                                      \n",
    "\n",
    "Input month of birth (e.g. march, july etc): may                        \n",
    "\n",
    "Your Astrological sign is : Taurus"
   ]
  },
  {
   "cell_type": "code",
   "execution_count": 1,
   "metadata": {},
   "outputs": [
    {
     "name": "stdout",
     "output_type": "stream",
     "text": [
      "The astrological sign for 15 May is Taurus\n"
     ]
    }
   ],
   "source": [
    "day=15\n",
    "month='May'\n",
    "sign=\"\"\n",
    "if month==\"January\":\n",
    "    if day<20:\n",
    "        sign=\"Capricorn\"\n",
    "    else:\n",
    "        sign=\"Aquarius\"\n",
    "elif month == \"February\":\n",
    "    if day<19:\n",
    "        sign = \"Aquarius\"\n",
    "    else:\n",
    "        sign=\"Pisces\"\n",
    "elif month==\"March\":\n",
    "    if day<21:\n",
    "        sign=\"Pisces\"\n",
    "    else:\n",
    "        sign=\"Aries\"\n",
    "elif month==\"April\":\n",
    "    if day<20:\n",
    "        sign = \"Aries\"\n",
    "    else:\n",
    "        sign = \"Taurus\"\n",
    "elif month==\"May\":\n",
    "    if day<21:\n",
    "        sign = \"Taurus\"\n",
    "    else:\n",
    "        sign = \"Gemini\"\n",
    "elif month==\"June\":\n",
    "    if day<21:\n",
    "        sign = \"Gemini\"\n",
    "          \n",
    "    else:\n",
    "        sign = \"Cancer\"\n",
    "elif month==\"July\":\n",
    "    if day<23:\n",
    "        sign = \"Cancer\"\n",
    "    else:\n",
    "        sign = \"Leo\"\n",
    "elif month==\"August\":\n",
    "    if day<23:\n",
    "        sign = \"Leo\"\n",
    "    else:\n",
    "        sign = \"Virgo\"\n",
    "elif month==\"September\":\n",
    "    if day<23:\n",
    "        sign = \"Virgo\";\n",
    "    else:\n",
    "        sign = \"Libra\"\n",
    "elif month==\"October\":\n",
    "    if day<23:\n",
    "        sign = \"Libra\"\n",
    "    else:\n",
    "        sign = \"Scorpio\"\n",
    "elif month==\"November\":\n",
    "    if day<22:\n",
    "        sign = \"scorpio\"\n",
    "    else:\n",
    "        sign = \"Sagittarius\"\n",
    "elif month==\"December\":\n",
    "    if day<22:\n",
    "        sign = \"Sagittarius\" \n",
    "    else:\n",
    "        sign =\"Capricorn\"\n",
    "print(\"The astrological sign for\",day,month,\"is\",sign )"
   ]
  },
  {
   "attachments": {
    "image.png": {
     "image/png": "[encoded data removed]"
    }
   },
   "cell_type": "markdown",
   "metadata": {},
   "source": [
    "####  Write a Python program to print alphabet pattern 'Z'\n",
    "Expected Output:\n",
    "![image.png](attachment:image.png)"
   ]
  },
  {
   "cell_type": "code",
   "execution_count": 32,
   "metadata": {
    "scrolled": true
   },
   "outputs": [
    {
     "name": "stdout",
     "output_type": "stream",
     "text": [
      "* * * * * * * \n",
      "          *   \n",
      "        *     \n",
      "      *       \n",
      "    *         \n",
      "  *           \n",
      "* * * * * * * \n"
     ]
    }
   ],
   "source": [
    "for i in range(7):\n",
    "    for j in range(7):\n",
    "        if i==0 or i==6 or i+j==6:\n",
    "            print(\"*\",end=\" \")\n",
    "        else:\n",
    "            print(\" \",end=\" \")\n",
    "    print()\n",
    "    \n",
    "\n",
    "    \n"
   ]
  },
  {
   "attachments": {
    "image.png": {
     "image/png": "[encoded data removed]"
    }
   },
   "cell_type": "markdown",
   "metadata": {},
   "source": [
    "#### Write a Python program to construct the following pattern, using a nested for loop.\n",
    "\n",
    "![image.png](attachment:image.png)\n"
   ]
  },
  {
   "cell_type": "code",
   "execution_count": 68,
   "metadata": {},
   "outputs": [
    {
     "name": "stdout",
     "output_type": "stream",
     "text": [
      "* \n",
      "* * \n",
      "* * * \n",
      "* * * * \n",
      "* * * * * \n",
      "* * * * \n",
      "* * * \n",
      "* * \n",
      "* \n"
     ]
    }
   ],
   "source": [
    "col=1\n",
    "for i in range(9):\n",
    "    for j in range(col):\n",
    "        print(\"* \",end=\"\")\n",
    "    if i<int(9/2):\n",
    "        col+=1\n",
    "    else:\n",
    "        col-=1\n",
    "    print()\n",
    "\n"
   ]
  },
  {
   "cell_type": "code",
   "execution_count": null,
   "metadata": {},
   "outputs": [],
   "source": []
  },
  {
   "attachments": {
    "image.png": {
     "image/png": "[encoded data removed]"
    }
   },
   "cell_type": "markdown",
   "metadata": {},
   "source": [
    "####  Write a Python program to print alphabet pattern 'U'.\n",
    "Expected Output\n",
    "![image.png](attachment:image.png)"
   ]
  },
  {
   "cell_type": "code",
   "execution_count": 99,
   "metadata": {},
   "outputs": [
    {
     "name": "stdout",
     "output_type": "stream",
     "text": [
      "*       * \n",
      "*       * \n",
      "*       * \n",
      "*       * \n",
      "*       * \n",
      "*       * \n",
      "  * * *   \n"
     ]
    }
   ],
   "source": [
    "\n",
    "for i in range(7):\n",
    "    for j in range(5):\n",
    "        if ((j==0 or j==4)and i<6 ) or (i==6 and j>0 and j<4):\n",
    "            print(\"*\",end=\" \")\n",
    "        else:\n",
    "            print(\" \",end=\" \")\n",
    "    print()\n",
    "                \n",
    "            \n",
    "            \n",
    "    \n",
    "\n",
    "    \n"
   ]
  },
  {
   "attachments": {
    "image.png": {
     "image/png": "[encoded data removed]"
    }
   },
   "cell_type": "markdown",
   "metadata": {},
   "source": [
    "####  Write a Python program to print alphabet pattern 'T'\n",
    "Expected Output:\n",
    "![image.png](attachment:image.png)"
   ]
  },
  {
   "cell_type": "code",
   "execution_count": 110,
   "metadata": {},
   "outputs": [
    {
     "name": "stdout",
     "output_type": "stream",
     "text": [
      "* * * * * \n",
      "    *     \n",
      "    *     \n",
      "    *     \n",
      "    *     \n",
      "    *     \n",
      "    *     \n"
     ]
    }
   ],
   "source": [
    "for i in range(7):\n",
    "    for j in range(5):\n",
    "        if i==0  or j==2:\n",
    "            print(\"*\",end=\" \")\n",
    "        else:\n",
    "             print(\" \",end=\" \")\n",
    "               \n",
    "    print()"
   ]
  },
  {
   "cell_type": "markdown",
   "metadata": {},
   "source": [
    "####  Write a Python program that accepts a word from the user and reverse it."
   ]
  },
  {
   "cell_type": "code",
   "execution_count": 120,
   "metadata": {},
   "outputs": [
    {
     "name": "stdout",
     "output_type": "stream",
     "text": [
      "Enter the wordseema\n",
      "amees\n"
     ]
    }
   ],
   "source": [
    "word=input(\"Enter the word\")\n",
    "rev=\"\"\n",
    "for i in range(len(word)):\n",
    "    rev+=word[len(word)-i-1]\n",
    "print(rev)\n",
    "                                 # word[::-1]"
   ]
  },
  {
   "cell_type": "markdown",
   "metadata": {},
   "source": [
    "#### Write a Python program to count the number of even and odd numbers from a series of numbers\n",
    "\n",
    "Sample numbers : numbers = (1, 2, 3, 4, 5, 6, 7, 8, 9) \n",
    "\n",
    "Expected Output : \n",
    "\n",
    "Number of even numbers : 5\n",
    "\n",
    "Number of odd numbers : 4"
   ]
  },
  {
   "cell_type": "code",
   "execution_count": 130,
   "metadata": {},
   "outputs": [
    {
     "name": "stdout",
     "output_type": "stream",
     "text": [
      "oddCount= 3\n",
      "evenCount= 2\n"
     ]
    }
   ],
   "source": [
    "S=[1,2,3,4,5]\n",
    "cnteven=0\n",
    "cntodd=0\n",
    "for i in S:\n",
    "    if(i%2==0):\n",
    "        cnteven+=1\n",
    "    else:\n",
    "        cntodd+=1\n",
    "            \n",
    "print(\"oddCount=\",cntodd)\n",
    "print(\"evenCount=\",cnteven)\n",
    "       \n",
    "        \n",
    "        "
   ]
  },
  {
   "cell_type": "markdown",
   "metadata": {},
   "source": [
    "#### Write a Python program that prints each item and its corresponding type from the following list.\n",
    "\n",
    "Sample List : datalist = [1452, 11.23, 1+2j, True, 'TestYantra', (0, -1), [5, 12], {\"class\":'V', \"section\":'A'}]"
   ]
  },
  {
   "cell_type": "code",
   "execution_count": 133,
   "metadata": {},
   "outputs": [
    {
     "name": "stdout",
     "output_type": "stream",
     "text": [
      "data: 1452 type:  <class 'int'>\n",
      "data: 11.23 type:  <class 'float'>\n",
      "data: (1+2j) type:  <class 'complex'>\n",
      "data: True type:  <class 'bool'>\n",
      "data: TestYantra type:  <class 'str'>\n",
      "data: (0, -1) type:  <class 'tuple'>\n",
      "data: [5, 12] type:  <class 'list'>\n",
      "data: {'class': 'V', 'section': 'A'} type:  <class 'dict'>\n"
     ]
    }
   ],
   "source": [
    "datalist = [1452, 11.23, 1+2j, True, 'TestYantra', (0, -1), [5, 12], {\"class\":'V', \"section\":'A'}]\n",
    "for i in datalist:\n",
    "    print(\"data:\",i,\"type: \",type(i))"
   ]
  },
  {
   "cell_type": "markdown",
   "metadata": {},
   "source": [
    "#### Write a Python program that prints all the numbers from 0 to 6 except 3 and 6.\n",
    " \n",
    "Expected Output : 0 1 2 4 5 "
   ]
  },
  {
   "cell_type": "code",
   "execution_count": 145,
   "metadata": {},
   "outputs": [
    {
     "name": "stdout",
     "output_type": "stream",
     "text": [
      "0\n",
      "1\n",
      "2\n",
      "4\n",
      "5\n"
     ]
    }
   ],
   "source": [
    "number=[0,1,2,3,4,5,6]\n",
    "for  i in number:\n",
    "    if i==0 or (i%3!=0):\n",
    "        print(i)"
   ]
  },
  {
   "cell_type": "markdown",
   "metadata": {},
   "source": [
    "#### Write a Python program to get the Fibonacci series between 0 to 50\n",
    "\n",
    "Note : The Fibonacci Sequence is the series of numbers :\n",
    "\n",
    "0, 1, 1, 2, 3, 5, 8, 13, 21, .... \n",
    "\n",
    "Every next number is found by adding up the two numbers before it.\n",
    "\n",
    "Expected Output : 1 1 2 3 5 8 13 21 34"
   ]
  },
  {
   "cell_type": "code",
   "execution_count": 148,
   "metadata": {},
   "outputs": [
    {
     "name": "stdout",
     "output_type": "stream",
     "text": [
      "1\n",
      "2\n",
      "3\n",
      "5\n",
      "8\n",
      "13\n",
      "21\n",
      "34\n"
     ]
    }
   ],
   "source": [
    "a=0\n",
    "b=1\n",
    "for i in range(8):\n",
    "    sum=a+b\n",
    "    print(sum)\n",
    "    a=b\n",
    "    b=sum\n",
    "\n"
   ]
  },
  {
   "cell_type": "code",
   "execution_count": null,
   "metadata": {},
   "outputs": [],
   "source": []
  },
  {
   "cell_type": "code",
   "execution_count": 156,
   "metadata": {},
   "outputs": [
    {
     "name": "stdout",
     "output_type": "stream",
     "text": [
      "enter number4\n",
      "4 x 1 = 4\n",
      "4 x 2 = 8\n",
      "4 x 3 = 12\n",
      "4 x 4 = 16\n",
      "4 x 5 = 20\n",
      "4 x 6 = 24\n",
      "4 x 7 = 28\n",
      "4 x 8 = 32\n",
      "4 x 9 = 36\n",
      "4 x 10 = 40\n"
     ]
    }
   ],
   "source": [
    "n=int(input(\"enter number\"))\n",
    "for i in range(1,11):\n",
    "    S=n*i\n",
    "    print(n,\"x\",i,\"=\",n*i)\n",
    "    \n",
    "    "
   ]
  },
  {
   "cell_type": "markdown",
   "metadata": {},
   "source": [
    "#### Write a Python program to create the multiplication table (from 1 to 10) of a number.\n",
    "\n",
    "Expected Output:\n",
    "\n",
    "Input a number: 6                                                       \n",
    "\n",
    "6 x 1 = 6                                                               \n",
    "\n",
    "6 x 2 = 12                                                              \n",
    "\n",
    "6 x 3 = 18                                                              \n",
    "\n",
    "6 x 4 = 24                                                              \n",
    "\n",
    "6 x 5 = 30                                                              \n",
    "\n",
    "6 x 6 = 36                                                              \n",
    "\n",
    "6 x 7 = 42                                                              \n",
    "\n",
    "6 x 8 = 48                                                              \n",
    "\n",
    "6 x 9 = 54                                                              \n",
    "\n",
    "6 x 10 = 60 "
   ]
  },
  {
   "cell_type": "markdown",
   "metadata": {},
   "source": [
    "#### Write a Python program to calculate the sum and average of n integer numbers"
   ]
  },
  {
   "cell_type": "code",
   "execution_count": 158,
   "metadata": {},
   "outputs": [
    {
     "name": "stdout",
     "output_type": "stream",
     "text": [
      "Sum= 298 Avg= 59.6\n"
     ]
    }
   ],
   "source": [
    "H=[18,23,78,56,89]\n",
    "Sum=0\n",
    "Avg=0\n",
    "for i in H:\n",
    "    sum+=i\n",
    "avg=sum/len(H)\n",
    "print(\"Sum=\",sum ,\"Avg=\",avg)"
   ]
  },
  {
   "cell_type": "code",
   "execution_count": null,
   "metadata": {},
   "outputs": [],
   "source": [
    "\n"
   ]
  },
  {
   "cell_type": "code",
   "execution_count": null,
   "metadata": {},
   "outputs": [],
   "source": []
  },
  {
   "cell_type": "code",
   "execution_count": null,
   "metadata": {},
   "outputs": [],
   "source": []
  },
  {
   "cell_type": "code",
   "execution_count": null,
   "metadata": {},
   "outputs": [],
   "source": []
  },
  {
   "cell_type": "code",
   "execution_count": null,
   "metadata": {},
   "outputs": [],
   "source": []
  }
 ],
 "metadata": {
  "kernelspec": {
   "display_name": "Python 3",
   "language": "python",
   "name": "python3"
  },
  "language_info": {
   "codemirror_mode": {
    "name": "ipython",
    "version": 3
   },
   "file_extension": ".py",
   "mimetype": "text/x-python",
   "name": "python",
   "nbconvert_exporter": "python",
   "pygments_lexer": "ipython3",
   "version": "3.7.3"
  }
 },
 "nbformat": 4,
 "nbformat_minor": 2
}
